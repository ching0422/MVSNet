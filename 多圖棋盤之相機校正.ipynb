{
 "cells": [
  {
   "cell_type": "markdown",
   "id": "2c1eec29",
   "metadata": {},
   "source": [
    "# 設置引數\n",
    "此程式用來製作MVSNet之input\n",
    "\n",
    "需要不同角度的圖片"
   ]
  },
  {
   "cell_type": "code",
   "execution_count": 25,
   "id": "71a139da",
   "metadata": {},
   "outputs": [
    {
     "name": "stdout",
     "output_type": "stream",
     "text": [
      "Namespace(chessboard_width=8, chessboard_height=5, grid_size=15, path='./INPUT/scan1001/', assumed_depth=170, interval_depth=2.5, image_type='jpg')\n"
     ]
    }
   ],
   "source": [
    "import argparse\n",
    "import sys\n",
    "\n",
    "parser = argparse.ArgumentParser(description='caculate diff view of object and Make input for MVSNet')\n",
    "\n",
    "parser.add_argument('--chessboard_width',type=int,default=8,help='bigger size of chessboard')\n",
    "parser.add_argument('--chessboard_height',type=int,default=5,help='smaller size of chessboard')\n",
    "parser.add_argument('--grid_size',type=int,default=15,help='edge length of chessboard-grid in real world(unit：mm)')\n",
    "parser.add_argument('--path',default=\"./INPUT/scan1001/\",help='diff view picture location')\n",
    "parser.add_argument('--assumed_depth',type=int,default=170,help='in MVS的初始平面(距離相機) (單位：mm)')\n",
    "parser.add_argument('--interval_depth',type=int,default=2.5,help='每個平面的距離－在算的時候為：初始平面 + depth interval (單位 mm)')\n",
    "parser.add_argument('--image_type',default=\"jpg\",help='view-img type(jpg)(png)(jepg)')\n",
    "# parse arguments and check\n",
    "args = parser.parse_args(args=[])\n",
    "print(args)"
   ]
  },
  {
   "cell_type": "markdown",
   "id": "93c9650b",
   "metadata": {},
   "source": [
    "# 前處理，將圖片全部reshape成(1600,1200)並儲存\n",
    "MVSNet所需之input size"
   ]
  },
  {
   "cell_type": "code",
   "execution_count": 26,
   "id": "16d65d4c",
   "metadata": {},
   "outputs": [],
   "source": [
    "import glob\n",
    "import os\n",
    "import cv2\n",
    "\n",
    "images = glob.glob(os.path.join(args.path,'*.{}'.format(args.image_type)))\n",
    "\n",
    "for fname in images:\n",
    "    img = cv2.imread(fname)\n",
    "    # Resize Image\n",
    "    img = cv2.resize(img,(1600,1200),interpolation=cv2.INTER_AREA)\n",
    "    cv2.imwrite(\"{}\".format(fname),img)"
   ]
  },
  {
   "cell_type": "markdown",
   "id": "022c51df",
   "metadata": {},
   "source": [
    "# 偵測chessboard並做Camera calibration\n",
    "ref：https://docs.opencv.org/4.x/dc/dbb/tutorial_py_calibration.html"
   ]
  },
  {
   "cell_type": "code",
   "execution_count": 27,
   "id": "5be4b37f",
   "metadata": {},
   "outputs": [
    {
     "name": "stdout",
     "output_type": "stream",
     "text": [
      "detected_img_num =  31\n",
      "Extrinsic_M :\n",
      "⎡ [[-4.86912959e-01  8.68306876e-01 -9.46516756e-02 -8.08118666e+01],  [[-5.84\n",
      "⎢  [-8.32758694e-01 -4.28804684e-01  3.50199231e-01  2.60764056e+01]    [-7.59\n",
      "⎣ [ 2.63493318e-01  2.49338549e-01  9.31880657e-01  2.90050985e+02]]   [ 2.856\n",
      "\n",
      "928890e-01  8.09200058e-01 -5.52581242e-02 -7.11845629e+01],  [[-6.48606965e-0\n",
      "111579e-01 -5.22180119e-01  3.88686934e-01  3.96332550e+01]    [-7.07575069e-0\n",
      "70796e-01  2.69301299e-01  9.19711371e-01  2.96486940e+02]]   [ 2.80439878e-01\n",
      "\n",
      "1  7.58821519e-01 -5.91515559e-02 -6.98397696e+01],  [[-7.48579993e-01  6.6301\n",
      "1 -5.72515985e-01  4.14201603e-01  4.99626529e+01]    [-5.99036340e-01 -6.7258\n",
      "  3.10508211e-01  9.08261045e-01  2.99933685e+02]]   [ 2.84224309e-01  3.28680\n",
      "\n",
      "9763e-01 -5.72612019e-03 -5.32058377e+01],  [[-9.17233430e-01  3.98133076e-01 \n",
      "7305e-01  4.34490253e-01  6.46619922e+01]    [-3.54404996e-01 -8.30672297e-01 \n",
      "865e-01  9.00658332e-01  3.02912117e+02]]   [ 1.81878899e-01  3.89196080e-01  \n",
      "\n",
      " 1.31487277e-02 -4.54516204e+01],  [[-9.76316810e-01  2.14928026e-01  2.472713\n",
      " 4.29395661e-01  7.58216510e+01]    [-1.84463059e-01 -8.86703211e-01  4.239466\n",
      "9.03020751e-01  3.15176815e+02]]   [ 1.13043652e-01  4.09345037e-01  9.0534953\n",
      "\n",
      "16e-02 -3.53112316e+01],  [[-9.96840547e-01  4.35299458e-02  6.64384449e-02 -1\n",
      "90e-01  7.98293125e+01]    [-1.14124876e-02 -9.06268882e-01  4.22547592e-01  8\n",
      "1e-01  3.22101035e+02]]   [ 7.86045690e-02  4.20454345e-01  9.03902354e-01  3.\n",
      "\n",
      ".08808216e+01],  [[-9.89310853e-01 -1.16240400e-01  8.80466147e-02  2.68943911\n",
      ".41543095e+01]    [ 1.41263341e-01 -9.13757044e-01  3.80910401e-01  7.82209031\n",
      "30227144e+02]]   [ 3.61760368e-02  3.89276552e-01  9.20410267e-01  3.37361518e\n",
      "\n",
      "e+00],  [[-9.72780848e-01 -2.15431858e-01  8.53612075e-02  8.04762668e+00],  [\n",
      "e+01]    [ 2.31665435e-01 -8.95640278e-01  3.79683578e-01  7.80868122e+01]    \n",
      "+02]]   [-5.34300323e-03  3.89124154e-01  9.21169824e-01  3.38690807e+02]]   [\n",
      "\n",
      "[-9.27421376e-01 -3.44181019e-01  1.46386533e-01  3.08030128e+01],  [[-8.56167\n",
      "[ 3.73940443e-01 -8.45280536e-01  3.81666556e-01  8.04095149e+01]    [ 5.16497\n",
      "-7.62469674e-03  4.08705568e-01  9.12634441e-01  3.33850561e+02]]   [ 1.439349\n",
      "\n",
      "444e-01 -4.67880019e-01  2.19238673e-01  5.52237636e+01],  [[-7.43684387e-01 -\n",
      "953e-01 -7.86794359e-01  3.37911972e-01  6.97136960e+01]    [ 6.68346546e-01 -\n",
      "18e-02  4.02545555e-01  9.15286788e-01  3.27631958e+02]]   [-1.56979821e-02  4\n",
      "\n",
      "6.14800006e-01  2.62591860e-01  7.26812433e+01],  [[-6.22364937e-01 -7.2039822\n",
      "6.74501529e-01  3.13624905e-01  5.98449266e+01]    [ 7.82364152e-01 -5.6063088\n",
      ".08740308e-01  9.12515717e-01  3.19231572e+02]]   [-2.38373234e-02  4.08312881\n",
      "\n",
      "3e-01  3.06085422e-01  8.22849400e+01],  [[-4.47817024e-01 -8.19827413e-01  3.\n",
      "7e-01  2.71291986e-01  4.58946867e+01]    [ 8.93661246e-01 -3.97536644e-01  2.\n",
      "e-01  9.12530752e-01  3.15176595e+02]]   [-2.88008683e-02  4.12125744e-01  9.1\n",
      "\n",
      "56851405e-01  9.54212013e+01],  [[-7.71255383e-01 -6.01447482e-01  2.08389205e\n",
      "08168665e-01  2.87549332e+01]    [ 6.09342760e-01 -6.02978851e-01  5.14896015e\n",
      "0671665e-01  3.10255891e+02]]   [-1.84028629e-01  5.24096776e-01  8.31538353e-\n",
      "\n",
      "-01  6.38905511e+01],  [[-8.89081253e-01 -4.40784408e-01  1.23465098e-01  4.14\n",
      "-01  5.22105988e+01]    [ 4.38073538e-01 -7.41101656e-01  5.08782774e-01  5.67\n",
      "01  2.77400843e+02]]   [-1.32763325e-01  5.06436018e-01  8.51995574e-01  2.824\n",
      "\n",
      "759165e+01],  [[-9.80154612e-01 -1.88788970e-01  6.04620648e-02  1.62118256e+0\n",
      "590436e+01]    [ 1.92644893e-01 -8.35212898e-01  5.15079956e-01  7.47111212e+0\n",
      "84189e+02]]   [-4.67427179e-02  5.16505702e-01  8.55007005e-01  2.75274533e+02\n",
      "\n",
      "1],  [[-9.99208231e-01  1.99297806e-02  3.44342039e-02  4.88229870e+00],  [[-9\n",
      "1]    [ 4.15755154e-04 -8.60211896e-01  5.09936585e-01  6.94045337e+01]    [-1\n",
      "]]   [ 3.97836361e-02  5.09547149e-01  8.59522521e-01  2.75352282e+02]]   [ 7.\n",
      "\n",
      ".90650031e-01  1.36197450e-01  7.92280788e-03 -3.80063607e+00],  [[-9.61035477\n",
      ".14720350e-01 -8.63049237e-01  4.91919968e-01  6.19590855e+01]    [-2.54960490\n",
      "38360187e-02  4.86411624e-01  8.70604373e-01  2.76234843e+02]]   [ 1.06798689e\n",
      "\n",
      "e-01  2.74812100e-01 -2.98181385e-02 -1.71159916e+01],  [[-9.05435174e-01  4.1\n",
      "e-01 -8.39561721e-01  4.79719987e-01  5.80758599e+01]    [-3.96508994e-01 -7.7\n",
      "-01  4.68630374e-01  8.76914826e-01  2.81023516e+02]]   [ 1.51551191e-01  4.68\n",
      "\n",
      "8982394e-01 -6.81241457e-02 -2.36835454e+01],  [[-8.50361737e-01  5.20264768e-\n",
      "7502246e-01  4.88129978e-01  4.95143353e+01]    [-4.91845185e-01 -7.32659202e-\n",
      "981888e-01  8.70108169e-01  2.80275030e+02]]   [ 1.87011308e-01  4.38788178e-0\n",
      "\n",
      "01 -7.88002965e-02 -3.40931420e+01],  [[-7.83959951e-01  6.11453980e-01 -1.073\n",
      "01  4.70424072e-01  3.93915588e+01]    [-5.80140178e-01 -6.59981157e-01  4.773\n",
      "1  8.78915073e-01  2.91155838e+02]]   [ 2.21007170e-01  4.36519075e-01  8.7212\n",
      "\n",
      "81686e-01 -4.34744919e+01],  [[-7.26069461e-01  6.77473382e-01 -1.17698572e-01\n",
      "49187e-01  2.83300538e+01]    [-6.27546851e-01 -5.82887248e-01  5.16166065e-01\n",
      "7816e-01  2.98447749e+02]]   [ 2.81083773e-01  4.48633784e-01  8.48362918e-01 \n",
      "\n",
      " -5.23980188e+01],  [[-6.58500856e-01  7.40650488e-01 -1.33467136e-01 -5.93516\n",
      "  2.87574454e+01]    [-6.78215366e-01 -5.07158527e-01  5.31802732e-01  2.09257\n",
      " 3.10803754e+02]]   [ 3.26190957e-01  4.40712017e-01  8.36284866e-01  3.132900\n",
      "\n",
      "933e+01],  [[-5.51773784e-01  8.15463224e-01 -1.74829693e-01 -6.39850760e+01],\n",
      "183e+01]    [-7.59180214e-01 -4.04338291e-01  5.10054849e-01  1.07847168e+01] \n",
      "15e+02]]   [ 3.45240632e-01  4.14162137e-01  8.42186814e-01  3.14451739e+02]] \n",
      "\n",
      "  [[-4.17818531e-01  8.78448815e-01 -2.31852009e-01 -8.61265306e+01],  [[-3.37\n",
      "   [-8.35188538e-01 -2.70923257e-01  4.78602857e-01 -2.64976937e+01]    [-8.72\n",
      "  [ 3.57614012e-01  3.93609283e-01  8.46867139e-01  3.02144878e+02]]   [ 3.523\n",
      "\n",
      "987929e-01  8.95809638e-01 -2.88598774e-01 -9.93363539e+01],  [[-4.01506925e-0\n",
      "692578e-01 -1.83492537e-01  4.52480004e-01 -3.75316038e+01]    [-8.13254687e-0\n",
      "80227e-01  4.04790787e-01  8.43784685e-01  2.94760410e+02]]   [ 4.21199481e-01\n",
      "\n",
      "1  8.93893142e-01 -1.99367100e-01 -8.85247776e+01],  [[-5.58920600e-01  8.1962\n",
      "1 -2.47865058e-01  5.26478610e-01 -3.91263876e+01]    [-7.26476595e-01 -4.1088\n",
      "  3.73521036e-01  8.26482324e-01  2.90190016e+02]]   [ 3.99799349e-01  3.99228\n",
      "\n",
      "9353e-01 -1.25759640e-01 -8.57628029e+01],  [[-6.51524751e-01  7.55117526e-01 \n",
      "2390e-01  5.50824308e-01 -2.86301132e+01]    [-7.08220152e-01 -5.70980779e-01 \n",
      "488e-01  8.25092174e-01  2.76300144e+02]]   [ 2.71918581e-01  3.22146664e-01  \n",
      "\n",
      "-7.28904762e-02 -6.57736029e+01]⎤\n",
      " 4.15217011e-01 -3.11055507e+01]⎥\n",
      "9.06797559e-01  3.09030618e+02]]⎦\n",
      "********************\n",
      "intrinsic_M :\n",
      "⎡[[1.61270430e+03 0.00000000e+00 7.81647835e+02] ⎤\n",
      "⎢ [0.00000000e+00 9.10577898e+02 6.45919084e+02] ⎥\n",
      "⎣ [0.00000000e+00 0.00000000e+00 1.00000000e+00]]⎦\n"
     ]
    }
   ],
   "source": [
    "import numpy as np\n",
    "import cv2\n",
    "import glob\n",
    "from sympy import pprint\n",
    "import os\n",
    "\n",
    "# termination criteria\n",
    "criteria = (cv2.TERM_CRITERIA_EPS + cv2.TERM_CRITERIA_MAX_ITER, 30, 0.001) # 30iter校正、0.001\n",
    "# prepare object points, like (0,0,0), (1,0,0), (2,0,0) ....,(6,5,0)\n",
    "objp = np.zeros((args.chessboard_height*args.chessboard_width,3), np.float32)\n",
    "objp[:,:2] = np.mgrid[0:args.chessboard_width,0:args.chessboard_height].T.reshape(-1,2)*args.grid_size # \"*10\"：棋盤方格 10mm x 10mm\n",
    "# Arrays to store object points and image points from all the images.\n",
    "objpoints = [] # 3d point in real world space\n",
    "imgpoints = [] # 2d points in image plane.\n",
    "\n",
    "# path = \"./Calibration_Img/scan1001/\"\n",
    "\n",
    "images = glob.glob(os.path.join(args.path,'*.{}'.format(args.image_type)))\n",
    "\n",
    "ret_img = [] #紀錄有被detect到的圖片\n",
    "\n",
    "for fname in images:\n",
    "    img = cv2.imread(fname)\n",
    "    gray = cv2.cvtColor(img, cv2.COLOR_BGR2GRAY)\n",
    "    # Find the chess board corners\n",
    "    ret, corners = cv2.findChessboardCorners(gray, (args.chessboard_width,args.chessboard_height), None)\n",
    "    # If found, add object points, image points (after refining them)\n",
    "    if ret == True:\n",
    "        ret_img.append(fname) #有定位到這張圖片\n",
    "        \n",
    "        objpoints.append(objp)\n",
    "        corners2 = cv2.cornerSubPix(gray,corners, (11,11), (-1,-1), criteria)\n",
    "        imgpoints.append(corners)\n",
    "        # Draw and display the corners\n",
    "        cv2.drawChessboardCorners(img, (args.chessboard_width,args.chessboard_height), corners2, ret)\n",
    "#         cv2.imshow('img', img)\n",
    "#         cv2.waitKey(0)\n",
    "\n",
    "# cv2.destroyAllWindows()\n",
    "\n",
    "print(\"detected_img_num = \",len(ret_img))\n",
    "\n",
    "ret, mtx, dist, rvecs, tvecs = cv2.calibrateCamera(objpoints, imgpoints, gray.shape[::-1],None,None)  \n",
    "\n",
    "intrinsic_M = []\n",
    "intrinsic_M.append(mtx)\n",
    "\n",
    "Extrinsic_M = []\n",
    "for img_idx in range(len(ret_img)):\n",
    "    r = cv2.Rodrigues(rvecs[img_idx])\n",
    "    Extrinsic_M.append(np.concatenate((r[0],tvecs[img_idx]),axis =1))\n",
    "print(\"Extrinsic_M :\")\n",
    "pprint(Extrinsic_M)\n",
    "print(\"*\"*20)\n",
    "print(\"intrinsic_M :\")\n",
    "pprint(intrinsic_M)\n"
   ]
  },
  {
   "cell_type": "markdown",
   "id": "0f049b2b",
   "metadata": {},
   "source": [
    "# 將相機參數寫入.txt檔"
   ]
  },
  {
   "cell_type": "code",
   "execution_count": 28,
   "id": "8beb6fc7",
   "metadata": {},
   "outputs": [],
   "source": [
    "cam_file = args.path+'cams/'\n",
    "os.makedirs(cam_file, exist_ok=True)\n",
    "\n",
    "\n",
    "for img_idx in range(len(ret_img)):\n",
    "#     os.makedirs(cam_file+'{:0>8}_cam.txt'.format(img_idx), exist_ok=True)\n",
    "    with open(cam_file+'{:0>8}_cam.txt'.format(img_idx), 'w') as f:\n",
    "        # write extrinsic\n",
    "        f.write('extrinsic\\n')\n",
    "        for i in range(3):\n",
    "            f.write(\" \".join(str(Extrinsic_M[img_idx][i])[1:-1].split()))\n",
    "            f.write(\"\\n\")\n",
    "        f.write(\"0.0 0.0 0.0 1.0\\n\")\n",
    "        f.write(\"\\n\")\n",
    "        \n",
    "        # write intrinsic\n",
    "        f.write(\"intrinsic\\n\")\n",
    "        for i in range(3):\n",
    "            f.write(\" \".join(str(intrinsic_M[0][i])[1:-1].split()))\n",
    "            f.write(\"\\n\")\n",
    "        f.write(\"\\n\")\n",
    "        \n",
    "        # write the assumed depth and assume interval depth\n",
    "#         assumed_depth = 170 # 初始平面(距離相機) (單位：mm)\n",
    "#         interval_depth = 2.5 # 每個平面的距離－在算的時候為：初始平面 + depth interval (單位 mm)\n",
    "        f.write(str(args.assumed_depth))\n",
    "        f.write(\" \")\n",
    "        f.write(str(args.interval_depth))\n",
    "    f.close"
   ]
  },
  {
   "cell_type": "markdown",
   "id": "e092873f",
   "metadata": {},
   "source": [
    "# 將input的圖片 distorted 回來並save之"
   ]
  },
  {
   "cell_type": "code",
   "execution_count": 29,
   "id": "befd310b",
   "metadata": {},
   "outputs": [],
   "source": [
    "img_file = args.path+'images/'\n",
    "os.makedirs(img_file, exist_ok=True)\n",
    "\n",
    "# 將img distorted回來\n",
    "for idx,fname in enumerate(ret_img):\n",
    "    img = cv2.imread(fname)\n",
    "    dst = cv2.undistort(img,mtx,dist,None,mtx)\n",
    "    \n",
    "    cv2.imwrite(img_file+'{:0>8}.jpg'.format(idx),dst)"
   ]
  },
  {
   "cell_type": "markdown",
   "id": "2880a6ac",
   "metadata": {},
   "source": [
    "# 製作MVS_Net所需的pair之資料"
   ]
  },
  {
   "cell_type": "code",
   "execution_count": 30,
   "id": "62f27928",
   "metadata": {},
   "outputs": [
    {
     "data": {
      "text/plain": [
       "<function TextIOWrapper.close()>"
      ]
     },
     "execution_count": 30,
     "metadata": {},
     "output_type": "execute_result"
    }
   ],
   "source": [
    "# pair.txt 存至 path中\n",
    "with open(args.path+'pair.txt', 'w') as f:\n",
    "    # 第一行 總圖片數\n",
    "    f.write(str(len(ret_img)))\n",
    "    f.write(\"\\n\")\n",
    "    # 依據總圖片數 做 pair 匹配 ， 但正確方法須 稀疏重建，這裡簡化為下一張圖片\n",
    "    for img_idx in range(len(ret_img)): #對每個圖片進行配對\n",
    "        f.write(\"{}\\n\".format(img_idx)) #圖片ID\n",
    "        #取 X 張src img\n",
    "        select_src_num = 10\n",
    "        f.write(\"{} \".format(select_src_num)) \n",
    "        for i in range(select_src_num):\n",
    "            f.write(\"{} \".format((img_idx+i+1)%len(ret_img))) # 配對的cloud point數，但這裡沒真正做稀疏重建，所以為下一張\n",
    "            f.write(\"{} \".format(select_src_num-i)) # score # 這裡score為假資料\n",
    "        f.write(\"\\n\")\n",
    "f.close"
   ]
  },
  {
   "cell_type": "code",
   "execution_count": 31,
   "id": "332b31cb",
   "metadata": {},
   "outputs": [],
   "source": [
    "# import numpy as np\n",
    "# a = np.arange(10,14).reshape(2,2)\n",
    "# np.pad(a,((3,2),(2,5)),'constant',constant_values = (0,0))"
   ]
  },
  {
   "cell_type": "code",
   "execution_count": 32,
   "id": "53882830",
   "metadata": {},
   "outputs": [],
   "source": [
    "# import cv2\n",
    "# img = cv2.imread(\"C:/Users/TshongHangY/Desktop/Pytorch_Practice/MVSNet_pytorch-master/Calibration_Img/scan1001/0.jpg\")\n",
    "# print(np.shape(img))\n",
    "\n",
    "# Resize_img = cv2.resize(img,(1600,1200),interpolation=cv2.INTER_AREA)\n",
    "# cv2.imshow(\"Resize\",Resize_img)\n",
    "# cv2.waitKey(0)\n",
    "# cv2.destroyAllWindows()\n",
    "# # ===== padding =====\n",
    "# # 1600 * 1200\n",
    "# # np.pad(img,((0,),(0,5)),'constant',constant_values = (0,0))\n",
    "# # np.pad()"
   ]
  },
  {
   "cell_type": "code",
   "execution_count": null,
   "id": "c6defda8",
   "metadata": {},
   "outputs": [],
   "source": []
  }
 ],
 "metadata": {
  "kernelspec": {
   "display_name": "Python 3 (ipykernel)",
   "language": "python",
   "name": "python3"
  },
  "language_info": {
   "codemirror_mode": {
    "name": "ipython",
    "version": 3
   },
   "file_extension": ".py",
   "mimetype": "text/x-python",
   "name": "python",
   "nbconvert_exporter": "python",
   "pygments_lexer": "ipython3",
   "version": "3.9.5"
  }
 },
 "nbformat": 4,
 "nbformat_minor": 5
}
