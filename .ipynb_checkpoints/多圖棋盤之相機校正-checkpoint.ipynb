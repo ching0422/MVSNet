{
 "cells": [
  {
   "cell_type": "markdown",
   "id": "2c1eec29",
   "metadata": {},
   "source": [
    "# 設置引數\n",
    "此程式用來製作MVSNet之input\n",
    "\n",
    "需要不同角度的圖片"
   ]
  },
  {
   "cell_type": "code",
   "execution_count": 1,
   "id": "71a139da",
   "metadata": {},
   "outputs": [
    {
     "name": "stdout",
     "output_type": "stream",
     "text": [
      "Namespace(chessboard_width=8, chessboard_height=5, grid_size=15, path='./Bread/', assumed_depth=170, interval_depth=2.5, image_type='jpg')\n"
     ]
    }
   ],
   "source": [
    "import argparse\n",
    "import sys\n",
    "\n",
    "parser = argparse.ArgumentParser(description='caculate diff view of object and Make input for MVSNet')\n",
    "\n",
    "parser.add_argument('--chessboard_width',type=int,default=8,help='bigger size of chessboard')\n",
    "parser.add_argument('--chessboard_height',type=int,default=5,help='smaller size of chessboard')\n",
    "parser.add_argument('--grid_size',type=int,default=15,help='edge length of chessboard-grid in real world(unit：mm)')\n",
    "parser.add_argument('--path',default=\"./scan1001/\",help='diff view picture location')\n",
    "parser.add_argument('--assumed_depth',type=int,default=170,help='in MVS的初始平面(距離相機) (單位：mm)')\n",
    "parser.add_argument('--interval_depth',type=int,default=2.5,help='每個平面的距離－在算的時候為：初始平面 + depth interval (單位 mm)')\n",
    "parser.add_argument('--image_type',default=\"jpg\",help='view-img type(jpg)(png)(jepg)')\n",
    "# parse arguments and check\n",
    "args = parser.parse_args(args=[])\n",
    "print(args)"
   ]
  },
  {
   "cell_type": "markdown",
   "id": "93c9650b",
   "metadata": {},
   "source": [
    "# 前處理，將圖片全部reshape成(1600,1200)並儲存\n",
    "MVSNet所需之input size"
   ]
  },
  {
   "cell_type": "code",
   "execution_count": 2,
   "id": "16d65d4c",
   "metadata": {},
   "outputs": [],
   "source": [
    "import glob\n",
    "import os\n",
    "import cv2\n",
    "\n",
    "images = glob.glob(os.path.join(args.path,'*.{}'.format(args.image_type)))\n",
    "\n",
    "for fname in images:\n",
    "    img = cv2.imread(fname)\n",
    "    # Resize Image\n",
    "    img = cv2.resize(img,(1600,1200),interpolation=cv2.INTER_AREA)\n",
    "    cv2.imwrite(\"{}\".format(fname),img)"
   ]
  },
  {
   "cell_type": "markdown",
   "id": "022c51df",
   "metadata": {},
   "source": [
    "# 偵測chessboard並做Camera calibration\n",
    "ref：https://docs.opencv.org/4.x/dc/dbb/tutorial_py_calibration.html"
   ]
  },
  {
   "cell_type": "code",
   "execution_count": 3,
   "id": "5be4b37f",
   "metadata": {},
   "outputs": [
    {
     "name": "stdout",
     "output_type": "stream",
     "text": [
      "detected_img_num =  31\n",
      "Extrinsic_M :\n",
      "⎡ [[-4.86911463e-01  8.68307478e-01 -9.46538457e-02 -8.08108756e+01],  [[-5.84\n",
      "⎢  [-8.32762506e-01 -4.28805282e-01  3.50189433e-01  2.60620545e+01]    [-7.59\n",
      "⎣ [ 2.63484035e-01  2.49335423e-01  9.31884119e-01  2.90044094e+02]]   [ 2.856\n",
      "\n",
      "928614e-01  8.09201267e-01 -5.52433428e-02 -7.11834069e+01],  [[-6.48604365e-0\n",
      "115962e-01 -5.22190923e-01  3.88663859e-01  3.96187043e+01]    [-7.07580231e-0\n",
      "59715e-01  2.69276716e-01  9.19722011e-01  2.96480066e+02]]   [ 2.80432869e-01\n",
      "\n",
      "1  7.58824364e-01 -5.91435826e-02 -6.98385540e+01],  [[-7.48578931e-01  6.6302\n",
      "1 -5.72521455e-01  4.14185224e-01  4.99477090e+01]    [-5.99039650e-01 -6.7259\n",
      "  3.10491174e-01  9.08269033e-01  2.99925919e+02]]   [ 2.84220128e-01  3.28667\n",
      "\n",
      "1011e-01 -5.72036362e-03 -5.32045598e+01],  [[-9.17230939e-01  3.98138279e-01 \n",
      "2701e-01  4.34477336e-01  6.46464354e+01]    [-3.54409025e-01 -8.30685015e-01 \n",
      "305e-01  9.00664600e-01  3.02904330e+02]]   [ 1.81883608e-01  3.89163610e-01  \n",
      "\n",
      " 1.31648921e-02 -4.54506269e+01],  [[-9.76315442e-01  2.14933493e-01  2.473360\n",
      " 4.29367731e-01  7.58058425e+01]    [-1.84468794e-01 -8.86715147e-01  4.239192\n",
      "9.03033796e-01  3.15169475e+02]]   [ 1.13046103e-01  4.09316311e-01  9.0536221\n",
      "\n",
      "59e-02 -3.53102853e+01],  [[-9.96839735e-01  4.35352852e-02  6.64471387e-02 -1\n",
      "29e-01  7.98132054e+01]    [-1.14167212e-02 -9.06285210e-01  4.22512457e-01  8\n",
      "3e-01  3.22093822e+02]]   [ 7.86142594e-02  4.20418597e-01  9.03918139e-01  3.\n",
      "\n",
      ".08797545e+01],  [[-9.89311827e-01 -1.16235755e-01  8.80418030e-02  2.69044604\n",
      ".41377677e+01]    [ 1.41256235e-01 -9.13768056e-01  3.80886618e-01  7.82043786\n",
      "30218917e+02]]   [ 3.61771436e-02  3.89252089e-01  9.20420570e-01  3.37355078e\n",
      "\n",
      "e+00],  [[-9.72780844e-01 -2.15431090e-01  8.53631939e-02  8.04873310e+00],  [\n",
      "e+01]    [ 2.31665554e-01 -8.95644203e-01  3.79674245e-01  7.80694779e+01]    \n",
      "+02]]   [-5.33858679e-03  3.89115545e-01  9.21173487e-01  3.38682646e+02]]   [\n",
      "\n",
      "[-9.27421836e-01 -3.44180580e-01  1.46384649e-01  3.08042032e+01],  [[-8.56170\n",
      "[ 3.73939558e-01 -8.45296252e-01  3.81632616e-01  8.03927569e+01]    [ 5.16493\n",
      "-7.61213968e-03  4.08673432e-01  9.12648936e-01  3.33843282e+02]]   [ 1.439919\n",
      "\n",
      "061e-01 -4.67879452e-01  2.19229661e-01  5.52251194e+01],  [[-7.43689164e-01 -\n",
      "455e-01 -7.86806447e-01  3.37890700e-01  6.96975135e+01]    [ 6.68341417e-01 -\n",
      "54e-02  4.02522587e-01  9.15296799e-01  3.27625625e+02]]   [-1.56900480e-02  4\n",
      "\n",
      "6.14801943e-01  2.62573794e-01  7.26828819e+01],  [[-6.22372120e-01 -7.2041209\n",
      "6.74518848e-01  3.13598588e-01  5.98294635e+01]    [ 7.82358487e-01 -5.6065519\n",
      ".08708813e-01  9.12529960e-01  3.19226060e+02]]   [-2.38357238e-02  4.08255016\n",
      "\n",
      "9e-01  3.06038155e-01  8.22869535e+01],  [[-4.47820575e-01 -8.19835870e-01  3.\n",
      "7e-01  2.71258084e-01  4.58799865e+01]    [ 8.93660051e-01 -3.97554117e-01  2.\n",
      "e-01  9.12556683e-01  3.15173291e+02]]   [-2.87827391e-02  4.12092065e-01  9.1\n",
      "\n",
      "56827519e-01  9.54231944e+01],  [[-7.71258287e-01 -6.01447220e-01  2.08379215e\n",
      "08140427e-01  2.87398522e+01]    [ 6.09345111e-01 -6.03005334e-01  5.14862217e\n",
      "0687479e-01  3.10250608e+02]]   [-1.84008671e-01  5.24066607e-01  8.31561784e-\n",
      "\n",
      "-01  6.38916712e+01],  [[-8.89082715e-01 -4.40780141e-01  1.23469809e-01  4.14\n",
      "-01  5.21970030e+01]    [ 4.38075142e-01 -7.41113163e-01  5.08764631e-01  5.67\n",
      "01  2.77394507e+02]]   [-1.32748245e-01  5.06422893e-01  8.52005726e-01  2.824\n",
      "\n",
      "768613e+01],  [[-9.80154941e-01 -1.88786953e-01  6.04630314e-02  1.62128208e+0\n",
      "447968e+01]    [ 1.92644788e-01 -8.35225510e-01  5.15059543e-01  7.46970266e+0\n",
      "77141e+02]]   [-4.67362557e-02  5.16486044e-01  8.55019233e-01  2.75268072e+02\n",
      "\n",
      "1],  [[-9.99207946e-01  1.99313666e-02  3.44415604e-02  4.88331409e+00],  [[-9\n",
      "1]    [ 4.16276071e-04 -8.60235817e-01  5.09896230e-01  6.93906610e+01]    [-1\n",
      "]]   [ 3.97907926e-02  5.09506702e-01  8.59546167e-01  2.75345862e+02]]   [ 7.\n",
      "\n",
      ".90649611e-01  1.36200544e-01  7.92216156e-03 -3.79969334e+00],  [[-9.61034372\n",
      ".14724936e-01 -8.63059221e-01  4.91901383e-01  6.19452377e+01]    [-2.54964340\n",
      "38345306e-02  4.86393044e-01  8.70614880e-01  2.76228775e+02]]   [ 1.06799443e\n",
      "\n",
      "e-01  2.74816554e-01 -2.98127055e-02 -1.71150532e+01],  [[-9.05435070e-01  4.1\n",
      "e-01 -8.39572256e-01  4.79699502e-01  5.80616888e+01]    [-3.96509463e-01 -7.7\n",
      "-01  4.68608887e-01  8.76926217e-01  2.81016797e+02]]   [ 1.51550582e-01  4.68\n",
      "\n",
      "8984006e-01 -6.81156049e-02 -2.36823838e+01],  [[-8.50360124e-01  5.20270871e-\n",
      "7512955e-01  4.88112539e-01  4.95002299e+01]    [-4.91845077e-01 -7.32672792e-\n",
      "962693e-01  8.70118620e-01  2.80267850e+02]]   [ 1.87018928e-01  4.38758248e-0\n",
      "\n",
      "01 -7.87774042e-02 -3.40921830e+01],  [[-7.83957817e-01  6.11459153e-01 -1.073\n",
      "01  4.70403019e-01  3.93769426e+01]    [-5.80143921e-01 -6.59992815e-01  4.773\n",
      "1  8.78928393e-01  2.91148484e+02]]   [ 2.21004914e-01  4.36494202e-01  8.7214\n",
      "\n",
      "67803e-01 -4.34734855e+01],  [[-7.26068351e-01  6.77476117e-01 -1.17689676e-01\n",
      "28519e-01  2.83153925e+01]    [-6.27554408e-01 -5.82903535e-01  5.16138483e-01\n",
      "0837e-01  2.98440964e+02]]   [ 2.81069767e-01  4.48608493e-01  8.48380932e-01 \n",
      "\n",
      " -5.23969490e+01],  [[-6.58498568e-01  7.40654113e-01 -1.33458311e-01 -5.93507\n",
      "  2.87424354e+01]    [-6.78224667e-01 -5.07173218e-01  5.31776860e-01  2.09106\n",
      " 3.10797087e+02]]   [ 3.26176237e-01  4.40689019e-01  8.36302727e-01  3.132834\n",
      "\n",
      "393e+01],  [[-5.51772046e-01  8.15466208e-01 -1.74821260e-01 -6.39842735e+01],\n",
      "801e+01]    [-7.59188149e-01 -4.04350432e-01  5.10033413e-01  1.07694368e+01] \n",
      "03e+02]]   [ 3.45225961e-01  4.14144409e-01  8.42201546e-01  3.14445856e+02]] \n",
      "\n",
      "  [[-4.17818481e-01  8.78452382e-01 -2.31838583e-01 -8.61254254e+01],  [[-3.37\n",
      "   [-8.35197154e-01 -2.70939991e-01  4.78578348e-01 -2.65116724e+01]    [-8.72\n",
      "  [ 3.57593947e-01  3.93589803e-01  8.46884665e-01  3.02138503e+02]]   [ 3.523\n",
      "\n",
      "981141e-01  8.95817130e-01 -2.88583469e-01 -9.93360756e+01],  [[-4.01503443e-0\n",
      "702727e-01 -1.83503715e-01  4.52455895e-01 -3.75456566e+01]    [-8.13271456e-0\n",
      "61603e-01  4.04769140e-01  8.43802847e-01  2.94755665e+02]]   [ 4.21170422e-01\n",
      "\n",
      "1  8.93895690e-01 -1.99362688e-01 -8.85245763e+01],  [[-5.58917701e-01  8.1963\n",
      "1 -2.47878502e-01  5.26446377e-01 -3.91402172e+01]    [-7.26487700e-01 -4.1089\n",
      "  3.73506016e-01  8.26503921e-01  2.90186488e+02]]   [ 3.99783223e-01  3.99212\n",
      "\n",
      "2042e-01 -1.25755000e-01 -8.57622346e+01],  [[-6.51522538e-01  7.55119996e-01 \n",
      "2577e-01  5.50802063e-01 -2.86432360e+01]    [-7.08224733e-01 -5.70985341e-01 \n",
      "483e-01  8.25107731e-01  2.76294542e+02]]   [ 2.71911954e-01  3.22132787e-01  \n",
      "\n",
      "-7.28846673e-02 -6.57725351e+01]⎤\n",
      " 4.15202924e-01 -3.11199767e+01]⎥\n",
      "9.06804476e-01  3.09022638e+02]]⎦\n",
      "********************\n",
      "intrinsic_M :\n",
      "⎡[[1.61267005e+03 0.00000000e+00 7.81642069e+02] ⎤\n",
      "⎢ [0.00000000e+00 9.10573214e+02 6.45962674e+02] ⎥\n",
      "⎣ [0.00000000e+00 0.00000000e+00 1.00000000e+00]]⎦\n"
     ]
    }
   ],
   "source": [
    "import numpy as np\n",
    "import cv2\n",
    "import glob\n",
    "from sympy import pprint\n",
    "import os\n",
    "\n",
    "# termination criteria\n",
    "criteria = (cv2.TERM_CRITERIA_EPS + cv2.TERM_CRITERIA_MAX_ITER, 30, 0.001) # 30iter校正、0.001\n",
    "# prepare object points, like (0,0,0), (1,0,0), (2,0,0) ....,(6,5,0)\n",
    "objp = np.zeros((args.chessboard_height*args.chessboard_width,3), np.float32)\n",
    "objp[:,:2] = np.mgrid[0:args.chessboard_width,0:args.chessboard_height].T.reshape(-1,2)*args.grid_size # \"*10\"：棋盤方格 10mm x 10mm\n",
    "# Arrays to store object points and image points from all the images.\n",
    "objpoints = [] # 3d point in real world space\n",
    "imgpoints = [] # 2d points in image plane.\n",
    "\n",
    "# path = \"./Calibration_Img/scan1001/\"\n",
    "\n",
    "images = glob.glob(os.path.join(args.path,'*.{}'.format(args.image_type)))\n",
    "\n",
    "ret_img = [] #紀錄有被detect到的圖片\n",
    "\n",
    "for fname in images:\n",
    "    img = cv2.imread(fname)\n",
    "    gray = cv2.cvtColor(img, cv2.COLOR_BGR2GRAY)\n",
    "    # Find the chess board corners\n",
    "    ret, corners = cv2.findChessboardCorners(gray, (args.chessboard_width,args.chessboard_height), None)\n",
    "    # If found, add object points, image points (after refining them)\n",
    "    if ret == True:\n",
    "        ret_img.append(fname) #有定位到這張圖片\n",
    "        \n",
    "        objpoints.append(objp)\n",
    "        corners2 = cv2.cornerSubPix(gray,corners, (11,11), (-1,-1), criteria)\n",
    "        imgpoints.append(corners)\n",
    "        # Draw and display the corners\n",
    "        cv2.drawChessboardCorners(img, (args.chessboard_width,args.chessboard_height), corners2, ret)\n",
    "#         cv2.imshow('img', img)\n",
    "#         cv2.waitKey(0)\n",
    "\n",
    "# cv2.destroyAllWindows()\n",
    "\n",
    "print(\"detected_img_num = \",len(ret_img))\n",
    "\n",
    "ret, mtx, dist, rvecs, tvecs = cv2.calibrateCamera(objpoints, imgpoints, gray.shape[::-1],None,None)  \n",
    "\n",
    "intrinsic_M = []\n",
    "intrinsic_M.append(mtx)\n",
    "\n",
    "Extrinsic_M = []\n",
    "for img_idx in range(len(ret_img)):\n",
    "    r = cv2.Rodrigues(rvecs[img_idx])\n",
    "    Extrinsic_M.append(np.concatenate((r[0],tvecs[img_idx]),axis =1))\n",
    "print(\"Extrinsic_M :\")\n",
    "pprint(Extrinsic_M)\n",
    "print(\"*\"*20)\n",
    "print(\"intrinsic_M :\")\n",
    "pprint(intrinsic_M)\n"
   ]
  },
  {
   "cell_type": "markdown",
   "id": "0f049b2b",
   "metadata": {},
   "source": [
    "# 將相機參數寫入.txt檔"
   ]
  },
  {
   "cell_type": "code",
   "execution_count": 4,
   "id": "8beb6fc7",
   "metadata": {},
   "outputs": [],
   "source": [
    "cam_file = args.path+'cams/'\n",
    "os.makedirs(cam_file, exist_ok=True)\n",
    "\n",
    "\n",
    "for img_idx in range(len(ret_img)):\n",
    "#     os.makedirs(cam_file+'{:0>8}_cam.txt'.format(img_idx), exist_ok=True)\n",
    "    with open(cam_file+'{:0>8}_cam.txt'.format(img_idx), 'w') as f:\n",
    "        # write extrinsic\n",
    "        f.write('extrinsic\\n')\n",
    "        for i in range(3):\n",
    "            f.write(\" \".join(str(Extrinsic_M[img_idx][i])[1:-1].split()))\n",
    "            f.write(\"\\n\")\n",
    "        f.write(\"0.0 0.0 0.0 1.0\\n\")\n",
    "        f.write(\"\\n\")\n",
    "        \n",
    "        # write intrinsic\n",
    "        f.write(\"intrinsic\\n\")\n",
    "        for i in range(3):\n",
    "            f.write(\" \".join(str(intrinsic_M[0][i])[1:-1].split()))\n",
    "            f.write(\"\\n\")\n",
    "        f.write(\"\\n\")\n",
    "        \n",
    "        # write the assumed depth and assume interval depth\n",
    "#         assumed_depth = 170 # 初始平面(距離相機) (單位：mm)\n",
    "#         interval_depth = 2.5 # 每個平面的距離－在算的時候為：初始平面 + depth interval (單位 mm)\n",
    "        f.write(str(args.assumed_depth))\n",
    "        f.write(\" \")\n",
    "        f.write(str(args.interval_depth))\n",
    "    f.close"
   ]
  },
  {
   "cell_type": "markdown",
   "id": "e092873f",
   "metadata": {},
   "source": [
    "# 將input的圖片 distorted 回來並save之"
   ]
  },
  {
   "cell_type": "code",
   "execution_count": 5,
   "id": "befd310b",
   "metadata": {},
   "outputs": [],
   "source": [
    "img_file = args.path+'images/'\n",
    "os.makedirs(img_file, exist_ok=True)\n",
    "\n",
    "# 將img distorted回來\n",
    "for idx,fname in enumerate(ret_img):\n",
    "    img = cv2.imread(fname)\n",
    "    dst = cv2.undistort(img,mtx,dist,None,mtx)\n",
    "    \n",
    "    cv2.imwrite(img_file+'{:0>8}.jpg'.format(idx),dst)"
   ]
  },
  {
   "cell_type": "markdown",
   "id": "2880a6ac",
   "metadata": {},
   "source": [
    "# 製作MVS_Net所需的pair之資料"
   ]
  },
  {
   "cell_type": "code",
   "execution_count": 6,
   "id": "62f27928",
   "metadata": {},
   "outputs": [
    {
     "data": {
      "text/plain": [
       "<function TextIOWrapper.close()>"
      ]
     },
     "execution_count": 6,
     "metadata": {},
     "output_type": "execute_result"
    }
   ],
   "source": [
    "# pair.txt 存至 path中\n",
    "with open(args.path+'pair.txt', 'w') as f:\n",
    "    # 第一行 總圖片數\n",
    "    f.write(str(len(ret_img)))\n",
    "    f.write(\"\\n\")\n",
    "    # 依據總圖片數 做 pair 匹配 ， 但正確方法須 稀疏重建，這裡簡化為下一張圖片\n",
    "    for img_idx in range(len(ret_img)): #對每個圖片進行配對\n",
    "        f.write(\"{}\\n\".format(img_idx)) #圖片ID\n",
    "        #取 X 張src img\n",
    "        select_src_num = 10\n",
    "        f.write(\"{} \".format(select_src_num)) \n",
    "        for i in range(select_src_num):\n",
    "            f.write(\"{} \".format((img_idx+i+1)%len(ret_img))) # 配對的cloud point數，但這裡沒真正做稀疏重建，所以為下一張\n",
    "            f.write(\"{} \".format(select_src_num-i)) # score # 這裡score為假資料\n",
    "        f.write(\"\\n\")\n",
    "f.close"
   ]
  },
  {
   "cell_type": "code",
   "execution_count": 7,
   "id": "332b31cb",
   "metadata": {},
   "outputs": [],
   "source": [
    "# import numpy as np\n",
    "# a = np.arange(10,14).reshape(2,2)\n",
    "# np.pad(a,((3,2),(2,5)),'constant',constant_values = (0,0))"
   ]
  },
  {
   "cell_type": "code",
   "execution_count": 8,
   "id": "53882830",
   "metadata": {},
   "outputs": [],
   "source": [
    "# import cv2\n",
    "# img = cv2.imread(\"C:/Users/TshongHangY/Desktop/Pytorch_Practice/MVSNet_pytorch-master/Calibration_Img/scan1001/0.jpg\")\n",
    "# print(np.shape(img))\n",
    "\n",
    "# Resize_img = cv2.resize(img,(1600,1200),interpolation=cv2.INTER_AREA)\n",
    "# cv2.imshow(\"Resize\",Resize_img)\n",
    "# cv2.waitKey(0)\n",
    "# cv2.destroyAllWindows()\n",
    "# # ===== padding =====\n",
    "# # 1600 * 1200\n",
    "# # np.pad(img,((0,),(0,5)),'constant',constant_values = (0,0))\n",
    "# # np.pad()"
   ]
  },
  {
   "cell_type": "code",
   "execution_count": null,
   "id": "c6defda8",
   "metadata": {},
   "outputs": [],
   "source": []
  }
 ],
 "metadata": {
  "kernelspec": {
   "display_name": "Python 3 (ipykernel)",
   "language": "python",
   "name": "python3"
  },
  "language_info": {
   "codemirror_mode": {
    "name": "ipython",
    "version": 3
   },
   "file_extension": ".py",
   "mimetype": "text/x-python",
   "name": "python",
   "nbconvert_exporter": "python",
   "pygments_lexer": "ipython3",
   "version": "3.9.7"
  }
 },
 "nbformat": 4,
 "nbformat_minor": 5
}
